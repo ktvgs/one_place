{
 "cells": [
  {
   "cell_type": "code",
   "execution_count": 3,
   "id": "f4c1a0bd",
   "metadata": {},
   "outputs": [
    {
     "name": "stdout",
     "output_type": "stream",
     "text": [
      "Resulting p-value: 0.04\n",
      "Number of edges: 209\n"
     ]
    }
   ],
   "source": [
    "import networkx as nx\n",
    "import random\n",
    "\n",
    "# Initialize the graph\n",
    "G = nx.Graph()\n",
    "\n",
    "# Number of nodes in the graph\n",
    "num_nodes = 100\n",
    "\n",
    "# Desired average connectivity (p-value)\n",
    "desired_p = 0.03\n",
    "\n",
    "# Target number of edges to achieve the desired average connectivity\n",
    "target_num_edges = int((desired_p * num_nodes * (num_nodes - 1)) / 2)\n",
    "\n",
    "# Create nodes\n",
    "G.add_nodes_from(range(num_nodes))\n",
    "\n",
    "# Try different p-values until the graph is connected\n",
    "while True:\n",
    "    # Generate random edges with a given probability\n",
    "    for i in range(num_nodes):\n",
    "        for j in range(i + 1, num_nodes):\n",
    "            if random.random() < desired_p:\n",
    "                G.add_edge(i, j, weight=1)  # Add a bidirectional edge with weight 1 mile\n",
    "\n",
    "    # Check if the graph is connected\n",
    "    if nx.is_connected(G):\n",
    "        break\n",
    "    else:\n",
    "        # If not connected, clear the graph and try again with a slightly higher p-value\n",
    "        G.clear()\n",
    "        desired_p += 0.01\n",
    "\n",
    "# Print the resulting p-value and number of edges\n",
    "print(\"Resulting p-value:\", desired_p)\n",
    "print(\"Number of edges:\", G.number_of_edges())\n"
   ]
  },
  {
   "cell_type": "code",
   "execution_count": 2,
   "id": "f3ae3708",
   "metadata": {},
   "outputs": [
    {
     "name": "stdout",
     "output_type": "stream",
     "text": [
      "[(0, 8), (0, 47), (0, 55), (0, 59), (0, 65), (0, 72), (0, 92), (8, 13), (47, 34), (47, 73), (47, 74), (55, 2), (55, 39), (55, 41), (55, 43), (59, 70), (59, 85), (65, 7), (65, 9), (65, 86), (72, 24), (72, 36), (72, 75), (72, 84), (92, 95), (1, 10), (1, 23), (1, 32), (1, 41), (1, 42), (10, 26), (10, 87), (10, 93), (23, 3), (23, 77), (32, 37), (32, 44), (32, 46), (32, 52), (32, 74), (42, 7), (42, 52), (42, 58), (42, 60), (2, 28), (2, 91), (28, 61), (28, 88), (91, 49), (91, 64), (91, 66), (91, 95), (3, 9), (3, 38), (3, 64), (3, 69), (3, 74), (3, 96), (9, 14), (9, 24), (9, 48), (9, 62), (9, 82), (9, 85), (9, 98), (38, 26), (38, 82), (64, 34), (64, 39), (64, 54), (64, 84), (69, 15), (69, 77), (74, 12), (74, 18), (74, 21), (74, 24), (74, 34), (74, 85), (96, 43), (96, 44), (96, 45), (96, 76), (96, 77), (96, 84), (4, 66), (66, 19), (5, 80), (80, 27), (80, 62), (6, 11), (11, 15), (11, 29), (11, 40), (11, 53), (11, 56), (7, 24), (7, 82), (24, 45), (24, 60), (82, 20), (82, 25), (82, 35), (82, 54), (82, 71), (13, 46), (13, 54), (13, 63), (14, 33), (14, 70), (14, 75), (48, 15), (62, 44), (62, 83), (85, 12), (85, 26), (85, 29), (85, 44), (85, 71), (85, 73), (85, 77), (85, 98), (98, 30), (98, 35), (98, 49), (98, 70), (98, 94), (98, 95), (26, 16), (26, 19), (26, 20), (26, 56), (26, 68), (87, 49), (87, 54), (87, 83), (93, 31), (93, 49), (93, 97), (15, 56), (29, 34), (29, 61), (29, 75), (40, 19), (40, 25), (56, 43), (56, 90), (12, 17), (17, 33), (17, 94), (46, 45), (46, 90), (54, 52), (54, 83), (63, 30), (63, 68), (63, 73), (63, 79), (33, 60), (75, 51), (16, 19), (16, 73), (16, 94), (19, 52), (19, 71), (19, 78), (73, 31), (73, 58), (73, 67), (73, 84), (94, 44), (18, 21), (18, 44), (18, 49), (18, 97), (21, 34), (21, 89), (44, 35), (44, 83), (44, 86), (49, 30), (49, 31), (49, 81), (52, 20), (52, 31), (52, 43), (52, 71), (71, 45), (20, 34), (22, 77), (25, 68), (68, 36), (68, 67), (27, 86), (86, 37), (86, 79), (86, 83), (86, 95), (30, 79), (79, 84), (37, 39), (37, 58), (39, 95), (95, 67), (83, 67), (83, 81)]\n"
     ]
    }
   ],
   "source": [
    "print(G.edges())"
   ]
  },
  {
   "cell_type": "code",
   "execution_count": null,
   "id": "959641bf",
   "metadata": {},
   "outputs": [],
   "source": []
  },
  {
   "cell_type": "code",
   "execution_count": 3,
   "id": "5fa66751",
   "metadata": {},
   "outputs": [
    {
     "data": {
      "text/plain": [
       "[12, 83, 85, 79]"
      ]
     },
     "execution_count": 3,
     "metadata": {},
     "output_type": "execute_result"
    }
   ],
   "source": [
    "nx.shortest_path(G,12,79,weight='weight',method='dijkstra')\n"
   ]
  },
  {
   "cell_type": "code",
   "execution_count": 8,
   "id": "8ea180cd",
   "metadata": {},
   "outputs": [
    {
     "data": {
      "text/plain": [
       "3"
      ]
     },
     "execution_count": 8,
     "metadata": {},
     "output_type": "execute_result"
    }
   ],
   "source": [
    "nx.dijkstra_path_length(G,2,9)"
   ]
  },
  {
   "cell_type": "code",
   "execution_count": 9,
   "id": "f507c444",
   "metadata": {},
   "outputs": [
    {
     "data": {
      "text/plain": [
       "[2, 83, 35, 9]"
      ]
     },
     "execution_count": 9,
     "metadata": {},
     "output_type": "execute_result"
    }
   ],
   "source": [
    "nx.astar_path(G,2,9)"
   ]
  },
  {
   "cell_type": "code",
   "execution_count": 10,
   "id": "7db56346",
   "metadata": {},
   "outputs": [
    {
     "data": {
      "text/plain": [
       "3"
      ]
     },
     "execution_count": 10,
     "metadata": {},
     "output_type": "execute_result"
    }
   ],
   "source": [
    "nx.astar_path_length(G,2,9)"
   ]
  },
  {
   "cell_type": "code",
   "execution_count": null,
   "id": "989bc53e",
   "metadata": {},
   "outputs": [],
   "source": []
  },
  {
   "cell_type": "code",
   "execution_count": 15,
   "id": "396d2cd0",
   "metadata": {},
   "outputs": [],
   "source": [
    "class Customer:\n",
    "    def __init__(self,pickup,drop):\n",
    "        self.cid=None\n",
    "        pickup=pickup\n",
    "        drop=drop\n",
    "    def set_id(self,customer_id):\n",
    "        self.id=customer_id\n",
    "    \n",
    "    \n",
    "        \n",
    "    \n",
    "        \n",
    "    "
   ]
  },
  {
   "cell_type": "code",
   "execution_count": 16,
   "id": "2d4ef62b",
   "metadata": {},
   "outputs": [],
   "source": [
    "class Van:\n",
    "    van_counter=0\n",
    "    def __init__(self,capacity=5):\n",
    "        self.id = Van.van_counter  \n",
    "        Van.van_counter += 1\n",
    "        self.location = 0\n",
    "        self.capacity = capacity\n",
    "        self.customers = []\n",
    "        self.van_schedule={}\n",
    "        \n",
    "    def customer_assign(self,customer):\n",
    "        if len(self.customers) < self.capacity:\n",
    "            self.customers.append(customer)\n",
    "            self.get_path(customer)\n",
    "            return True\n",
    "        else:\n",
    "            return False\n",
    "    def get_path(self,customer):\n",
    "        p=customer.pickup\n",
    "        d=customer.drop\n",
    "        van_schedule[customer.id]=nx.shortest_path(G,p,d,weight='weight',method='dijkstra')\n",
    "\n",
    "        \n",
    "    \n",
    "    \n",
    "    isParked=True\n",
    "    \n",
    "    \n",
    "    "
   ]
  },
  {
   "cell_type": "code",
   "execution_count": 17,
   "id": "2b2d34af",
   "metadata": {},
   "outputs": [],
   "source": [
    "vans = [Van() for _ in range(50)]"
   ]
  },
  {
   "cell_type": "code",
   "execution_count": null,
   "id": "8139b335",
   "metadata": {},
   "outputs": [],
   "source": []
  },
  {
   "cell_type": "code",
   "execution_count": 6,
   "id": "214fbd78",
   "metadata": {},
   "outputs": [
    {
     "name": "stdout",
     "output_type": "stream",
     "text": [
      "customer requests by their pickup and drop number8 14,7 16\n"
     ]
    }
   ],
   "source": [
    "l=list(input('customer requests by their pickup and drop number ').split(','))"
   ]
  },
  {
   "cell_type": "code",
   "execution_count": 9,
   "id": "4f12ffd6",
   "metadata": {},
   "outputs": [
    {
     "name": "stdout",
     "output_type": "stream",
     "text": [
      "8 14\n",
      "7 16\n"
     ]
    }
   ],
   "source": [
    "for i in l:\n",
    "    pick=int(i.split(' ')[0])\n",
    "    drop=int(i.split(' ')[1])\n",
    "    customer(customer_count,pick,drop)\n",
    "    customer_count+=1\n",
    "    van(van_count)\n",
    "    van_count+=1\n",
    "    van"
   ]
  },
  {
   "cell_type": "code",
   "execution_count": null,
   "id": "fb26ae67",
   "metadata": {},
   "outputs": [],
   "source": [
    "vans_moving=[]"
   ]
  },
  {
   "cell_type": "code",
   "execution_count": null,
   "id": "604db192",
   "metadata": {},
   "outputs": [],
   "source": [
    "customer_counter=0\n",
    "for _ in range(100):\n",
    "    customer = Customer(pickup=random_node(),destination=random_node())\n",
    "    customer.set_id(customer_counter)  # Set the unique customer ID\n",
    "    customer_counter += 1\n",
    "\n",
    "    if not handle_customer_request(customer):\n",
    "        print(\"No available vans for customer.\")"
   ]
  },
  {
   "cell_type": "code",
   "execution_count": null,
   "id": "c3690e2b",
   "metadata": {},
   "outputs": [],
   "source": [
    "def handle_customer_request(customer):\n",
    "    m=nx.dijkstra_path_length(G,0,customer.pickup)\n",
    "    for v in vans_moving:\n",
    "        if v.capacity<5:\n",
    "        if m<nx.dijkstra_path_length(G,v.tail,customer.pickup):\n",
    "            m=nx.dijkstra_path_length(G,v.tail,customer.pickup)\n",
    "            v1=v\n",
    "    if not found:\n",
    "        for v in vans:\n",
    "            if v.customer_assign(customer):\n",
    "                vans_moving.append(v)\n",
    "                vans.remove(v)\n",
    "                return True\n",
    "        return False\n",
    "    \n",
    "        \n",
    "    \n",
    "    \n",
    "    \n",
    "#     for van in vans:\n",
    "#         if van.assign_customer(customer):\n",
    "#             return True\n",
    "#     return False  # No available vans\n"
   ]
  }
 ],
 "metadata": {
  "kernelspec": {
   "display_name": "Python 3 (ipykernel)",
   "language": "python",
   "name": "python3"
  },
  "language_info": {
   "codemirror_mode": {
    "name": "ipython",
    "version": 3
   },
   "file_extension": ".py",
   "mimetype": "text/x-python",
   "name": "python",
   "nbconvert_exporter": "python",
   "pygments_lexer": "ipython3",
   "version": "3.10.3"
  }
 },
 "nbformat": 4,
 "nbformat_minor": 5
}
