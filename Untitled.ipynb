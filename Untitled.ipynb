{
 "cells": [
  {
   "cell_type": "code",
   "execution_count": 208,
   "id": "f4c1a0bd",
   "metadata": {},
   "outputs": [],
   "source": [
    "# import networkx as nx\n",
    "# import random\n",
    "# from collections import OrderedDict\n",
    "\n",
    "# # Initialize the graph\n",
    "# G = nx.Graph()\n",
    "\n",
    "# # Number of nodes in the graph\n",
    "# num_nodes = 100\n",
    "\n",
    "# # Desired average connectivity (p-value)\n",
    "# desired_p = 0.03\n",
    "\n",
    "# # Target number of edges to achieve the desired average connectivity\n",
    "# target_num_edges = int((desired_p * num_nodes * (num_nodes - 1)) / 2)\n",
    "\n",
    "# # Create nodes\n",
    "# G.add_nodes_from(range(num_nodes))\n",
    "\n",
    "# # Try different p-values until the graph is connected\n",
    "# while True:\n",
    "#     # Generate random edges with a given probability\n",
    "#     for i in range(num_nodes):\n",
    "#         for j in range(i + 1, num_nodes):\n",
    "#             if random.random() < desired_p:\n",
    "#                 G.add_edge(i, j, weight=1)  # Add a bidirectional edge with weight 1 mile\n",
    "\n",
    "#     # Check if the graph is connected\n",
    "#     if nx.is_connected(G):\n",
    "#         break\n",
    "#     else:\n",
    "#         # If not connected, clear the graph and try again with a slightly higher p-value\n",
    "#         G.clear()\n",
    "#         desired_p += 0.01\n",
    "\n",
    "# # Print the resulting p-value and number of edges\n",
    "# print(\"Resulting p-value:\", desired_p)\n",
    "# print(\"Number of edges:\", G.number_of_edges())\n"
   ]
  },
  {
   "cell_type": "code",
   "execution_count": 209,
   "id": "f3ae3708",
   "metadata": {},
   "outputs": [],
   "source": [
    "# print(G.edges())"
   ]
  },
  {
   "cell_type": "code",
   "execution_count": 210,
   "id": "ea53d611",
   "metadata": {},
   "outputs": [],
   "source": [
    "# print(G.nodes())"
   ]
  },
  {
   "cell_type": "code",
   "execution_count": 211,
   "id": "959641bf",
   "metadata": {},
   "outputs": [],
   "source": [
    "def generate_random_node(location_graph):\n",
    "    return random.choice(list(location_graph.nodes()))"
   ]
  },
  {
   "cell_type": "code",
   "execution_count": 212,
   "id": "5fa66751",
   "metadata": {},
   "outputs": [],
   "source": [
    "# nx.shortest_path(G,12,79,weight='weight',method='dijkstra')\n"
   ]
  },
  {
   "cell_type": "code",
   "execution_count": 213,
   "id": "8ea180cd",
   "metadata": {},
   "outputs": [],
   "source": [
    "# nx.dijkstra_path_length(G,2,9)"
   ]
  },
  {
   "cell_type": "code",
   "execution_count": 214,
   "id": "f507c444",
   "metadata": {},
   "outputs": [],
   "source": [
    "# nx.astar_path(G,2,9)"
   ]
  },
  {
   "cell_type": "code",
   "execution_count": 215,
   "id": "7db56346",
   "metadata": {},
   "outputs": [],
   "source": [
    "# nx.astar_path_length(G,2,9)"
   ]
  },
  {
   "cell_type": "code",
   "execution_count": 216,
   "id": "989bc53e",
   "metadata": {},
   "outputs": [
    {
     "name": "stdout",
     "output_type": "stream",
     "text": [
      "[0, 1, 2, 3, 4, 5, 6, 7, 8, 9]\n"
     ]
    }
   ],
   "source": [
    "import networkx as nx\n",
    "seed=1000           # seed the graph for reproducibility, you should be doing this\n",
    "G= nx.gnp_random_graph (10, .3, seed=seed )       # here we create a random binomial graph with 10 nodes and an average (expected) connectivity of 10*.3= 3.\n",
    "print ( G.nodes() )\n",
    "nx.is_connected(G)      # check whether G which has at least one path between each pair of nodes.\n",
    "# needed for R2\n",
    "G.add_edges_from([(0, 3, {'weight': 0.1}), (0, 8,{'weight': 0.8}), (3,8,{'weight': 0.8}), (8,1, {'weight': 1.0}), (8,6, {'weight': 0.7}), (1,6, {'weight': 1.0}),  (1,4, {'weight': 0.6}),  (6,4, {'weight': 0.5}),  (6,7,{'weight': 0.9}), (4,5, {'weight': 0.5}), (4,7, {'weight': 0.4}), (4,9, {'weight': 1.0}),(7,5, {'weight': 0.8}),(7,9, {'weight': 0.4})])\n",
    "import random\n",
    "for u, v in G.edges:      # needed for requirement R3.\n",
    "  G.add_edge(u, v, weight=round(random.random(),1))"
   ]
  },
  {
   "cell_type": "code",
   "execution_count": 217,
   "id": "396d2cd0",
   "metadata": {},
   "outputs": [],
   "source": [
    "class Customer:\n",
    "    def __init__(self,pickup,drop):\n",
    "        self.cid=None\n",
    "        self.pickup=pickup\n",
    "        self.drop=drop\n",
    "        \n",
    "    def set_id(self,customer_id):\n",
    "        self.cid=customer_id\n",
    "    \n",
    "    \n",
    "        \n",
    "    \n",
    "        \n",
    "    "
   ]
  },
  {
   "cell_type": "code",
   "execution_count": 218,
   "id": "2d4ef62b",
   "metadata": {},
   "outputs": [],
   "source": [
    "class Van:\n",
    "    van_counter=0\n",
    "    \n",
    "    def __init__(self):\n",
    "        self.id = Van.van_counter  \n",
    "        Van.van_counter += 1\n",
    "        self.location = 0\n",
    "        self.capacity = 0\n",
    "        self.customers = []\n",
    "        self.van_schedule={}\n",
    "        self.isParked=True\n",
    "        \n",
    "    def get_path(self,customer):\n",
    "        #print('sjfbs',customer.cid,customer.drop)\n",
    "        self.p = customer.pickup\n",
    "        self.d = customer.drop\n",
    "        \n",
    "       # print('sjbfsj',self.p,self.d)\n",
    "        if len(self.customers)>1:\n",
    "            print(self.customers,self.customers[-2],self.van_schedule[self.customers[-2]],'before')\n",
    "            self.van_schedule[self.customers[-2]].extend(nx.shortest_path(G,self.van_schedule[self.customers[-2]][-1],self.p,weight='weight',method='dijkstra')[1:])\n",
    "            self.van_schedule[customer.cid]=nx.shortest_path(G,self.p,self.d,weight='weight',method='dijkstra')[1:]\n",
    "            print('after',self.van_schedule)\n",
    "        else:\n",
    "            self.van_schedule[customer.cid]=nx.shortest_path(G,self.location,self.p,weight='weight',method='dijkstra')\n",
    "            self.van_schedule[customer.cid].extend(nx.shortest_path(G,self.p,self.d,weight='weight',method='dijkstra')[1:])\n",
    "\n",
    "\n",
    "        \n",
    "        \n",
    "        \n",
    "    def customer_assign(self,customer):\n",
    "        \n",
    "        if  self.capacity >= len(self.customers):\n",
    "            self.customers.append(customer.cid)\n",
    "            self.capacity+=1\n",
    "\n",
    "            #print(self.customers,self.id,'van and customer')\n",
    "            self.get_path(customer)\n",
    "            print(self.van_schedule)\n",
    "            return True\n",
    "        else:\n",
    "            return False\n",
    "    \n",
    "    \n",
    "    \n",
    "    \n",
    "    \n",
    "    \n",
    "    "
   ]
  },
  {
   "cell_type": "code",
   "execution_count": 219,
   "id": "2b2d34af",
   "metadata": {},
   "outputs": [],
   "source": [
    "vans = [Van() for _ in range(10)]"
   ]
  },
  {
   "cell_type": "code",
   "execution_count": null,
   "id": "8139b335",
   "metadata": {},
   "outputs": [],
   "source": []
  },
  {
   "cell_type": "code",
   "execution_count": 220,
   "id": "214fbd78",
   "metadata": {},
   "outputs": [],
   "source": [
    "# l=list(input('customer requests by their pickup and drop number ').split(','))"
   ]
  },
  {
   "cell_type": "code",
   "execution_count": 221,
   "id": "4f12ffd6",
   "metadata": {},
   "outputs": [],
   "source": [
    "# for i in l:\n",
    "#     pick=int(i.split(' ')[0])\n",
    "#     drop=int(i.split(' ')[1])\n",
    "#     customer(customer_count,pick,drop)\n",
    "#     customer_count+=1\n",
    "#     van(van_count)\n",
    "#     van_count+=1\n",
    "#     van"
   ]
  },
  {
   "cell_type": "code",
   "execution_count": 222,
   "id": "fb26ae67",
   "metadata": {},
   "outputs": [],
   "source": [
    "vans_moving=[]"
   ]
  },
  {
   "cell_type": "code",
   "execution_count": 223,
   "id": "026b8f25",
   "metadata": {},
   "outputs": [],
   "source": [
    "def handle_customer_request(customer):\n",
    "    log=0\n",
    "    m=nx.dijkstra_path_length(G,0,customer.pickup)\n",
    "    v1=None\n",
    "    for v in vans_moving:\n",
    "        #print(v,v.capacity,'van loop')\n",
    "        if v.capacity<5:\n",
    "            #print(m,nx.dijkstra_path_length(G,v.location,customer.pickup))\n",
    "            if m>nx.dijkstra_path_length(G,v.location,customer.pickup):\n",
    "                m=nx.dijkstra_path_length(G,v.location,customer.pickup)\n",
    "                v1=v\n",
    "    if v1!=None:\n",
    "        #print('check')\n",
    "        v1.customer_assign(customer)\n",
    "        log=1\n",
    "        return True\n",
    "    #print('sshjas',vans)\n",
    "    if log==0:\n",
    "        #print('check2')\n",
    "        for v in vans:\n",
    "            \n",
    "            #print(v.customer_assign(customer))\n",
    "            if v.customer_assign(customer):\n",
    "                #print('check5')\n",
    "                vans_moving.append(v)\n",
    "                v.isParked=False\n",
    "                #print(vans_moving,'ashja')\n",
    "                vans.remove(v)\n",
    "                return True\n",
    "        return False\n",
    "    \n",
    "        \n",
    "    \n",
    "    \n",
    "    \n",
    "#     for van in vans:\n",
    "#         if van.assign_customer(customer):\n",
    "#             return True\n",
    "#     return False  # No available vans\n"
   ]
  },
  {
   "cell_type": "code",
   "execution_count": 224,
   "id": "128d87a0",
   "metadata": {},
   "outputs": [],
   "source": [
    "def move_vehicles():\n",
    "    for v in vans_moving:\n",
    "        if not v.isParked:\n",
    "            #print(len(v.van_schedule[v.customers[0]]),v.customers[0],'check1')\n",
    "            if len(v.van_schedule[v.customers[0]])>0: # ajksfjkalsnfsalksf\n",
    "                v.location=v.van_schedule[v.customers[0]][0]\n",
    "\n",
    "                v.van_schedule[v.customers[0]].pop(0)\n",
    "                #print(v.van_schedule[v.customers[0]],'check2')\n",
    "                if len(v.van_schedule[v.customers[0]])==0:\n",
    "                    #print(v.van_schedule,'before pop')\n",
    "                    #cus,cus_1=OrderedDict(v.van_schedule).popitem(last=False)\n",
    "                    print(v.customers[0],'dropped')\n",
    "                    del v.van_schedule[v.customers[0]]\n",
    "                   # print(v.van_schedule,'after pop')\n",
    "                    #print(cus ,'has been dropped')\n",
    "                   # print(v.customers,'before pop cus')\n",
    "                    v.customers.pop(0)\n",
    "                    #print(v.customers,'after pop cus')\n",
    "                    if len(v.customers)==0:\n",
    "                        v.isParked=True\n",
    "                print('van moved',v.id,v.location)\n",
    "        \n"
   ]
  },
  {
   "cell_type": "code",
   "execution_count": 232,
   "id": "604db192",
   "metadata": {},
   "outputs": [
    {
     "name": "stdout",
     "output_type": "stream",
     "text": [
      "0 0 6\n",
      "{0: [0, 8, 6]}\n",
      "1 8 3\n",
      "{1: [0, 8, 3]}\n",
      "van moved 4 0\n",
      "van moved 5 0\n",
      "2 0 8\n",
      "{2: [0, 8]}\n",
      "3 2 6\n",
      "{3: [0, 8, 2, 8, 6]}\n",
      "van moved 4 8\n",
      "van moved 5 8\n",
      "van moved 6 0\n",
      "van moved 7 0\n",
      "4 1 6\n",
      "{4: [1, 6]}\n",
      "5 0 1\n",
      "{5: [0, 8, 1]}\n",
      "0 dropped\n",
      "van moved 4 6\n",
      "1 dropped\n",
      "van moved 5 3\n",
      "2 dropped\n",
      "van moved 6 8\n",
      "van moved 7 8\n",
      "van moved 8 0\n",
      "6 0 4\n",
      "{6: [0, 8, 1, 4]}\n",
      "7 5 4\n",
      "{7: [7, 5, 4]}\n",
      "van moved 7 2\n",
      "van moved 8 8\n",
      "van moved 9 0\n",
      "8 8 4\n",
      "{8: [8, 1, 4]}\n",
      "9 5 8\n",
      "[7, 9] 7 [7, 5, 4] before\n",
      "after {7: [7, 5, 4, 5], 9: [4, 1, 8]}\n",
      "{7: [7, 5, 4, 5], 9: [4, 1, 8]}\n"
     ]
    }
   ],
   "source": [
    "customer_counter=0\n",
    "for x in range(10):\n",
    "    if x%2==0:\n",
    "        move_vehicles()\n",
    "    x+=1\n",
    "    customer = Customer(pickup=generate_random_node(G),drop=generate_random_node(G))\n",
    "    customer.set_id(customer_counter)  # Set the unique customer ID\n",
    "    customer_counter += 1\n",
    "    print(customer.cid,customer.pickup,customer.drop)\n",
    "    \n",
    "\n",
    "    if not handle_customer_request(customer):\n",
    "        print(\"No available vans for customer.\")\n"
   ]
  },
  {
   "cell_type": "code",
   "execution_count": 226,
   "id": "c3690e2b",
   "metadata": {},
   "outputs": [],
   "source": [
    "# for v in vans_moving:\n",
    "#     if len(v.customers)>0:\n",
    "#         move_vehicles()\n"
   ]
  },
  {
   "cell_type": "code",
   "execution_count": 227,
   "id": "f1f83d8b",
   "metadata": {},
   "outputs": [],
   "source": [
    "# for v in vans_moving:\n",
    "#     print(v.customers,v.van_schedule)\n"
   ]
  },
  {
   "cell_type": "code",
   "execution_count": 235,
   "id": "a2d44f60",
   "metadata": {},
   "outputs": [
    {
     "name": "stdout",
     "output_type": "stream",
     "text": [
      "True\n",
      "True\n",
      "True\n",
      "True\n",
      "True\n",
      "True\n",
      "True\n",
      "True\n",
      "True\n",
      "True\n"
     ]
    }
   ],
   "source": [
    "for v in vans_moving:\n",
    "    print(v.isParked)"
   ]
  },
  {
   "cell_type": "code",
   "execution_count": 234,
   "id": "ed6e5163",
   "metadata": {},
   "outputs": [
    {
     "name": "stdout",
     "output_type": "stream",
     "text": [
      "van moved 7 8\n",
      "5 dropped\n",
      "van moved 8 1\n",
      "van moved 9 8\n",
      "3 dropped\n",
      "van moved 7 6\n",
      "van moved 9 1\n",
      "6 dropped\n",
      "van moved 9 4\n"
     ]
    }
   ],
   "source": [
    "for v in vans_moving:\n",
    "    while  not v.isParked:\n",
    "        move_vehicles()"
   ]
  },
  {
   "cell_type": "code",
   "execution_count": null,
   "id": "1cf2c002",
   "metadata": {},
   "outputs": [],
   "source": []
  }
 ],
 "metadata": {
  "kernelspec": {
   "display_name": "Python 3 (ipykernel)",
   "language": "python",
   "name": "python3"
  },
  "language_info": {
   "codemirror_mode": {
    "name": "ipython",
    "version": 3
   },
   "file_extension": ".py",
   "mimetype": "text/x-python",
   "name": "python",
   "nbconvert_exporter": "python",
   "pygments_lexer": "ipython3",
   "version": "3.10.3"
  }
 },
 "nbformat": 4,
 "nbformat_minor": 5
}
